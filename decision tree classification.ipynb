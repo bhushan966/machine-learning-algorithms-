{
 "cells": [
  {
   "cell_type": "code",
   "execution_count": 1,
   "id": "7d745e70",
   "metadata": {},
   "outputs": [],
   "source": [
    "import pandas as pd"
   ]
  },
  {
   "cell_type": "code",
   "execution_count": 3,
   "id": "eb90df7c",
   "metadata": {},
   "outputs": [],
   "source": [
    "df = pd.read_csv(\"Car Evaluation.csv\")"
   ]
  },
  {
   "cell_type": "code",
   "execution_count": 4,
   "id": "f02f8aaf",
   "metadata": {},
   "outputs": [
    {
     "data": {
      "text/html": [
       "<div>\n",
       "<style scoped>\n",
       "    .dataframe tbody tr th:only-of-type {\n",
       "        vertical-align: middle;\n",
       "    }\n",
       "\n",
       "    .dataframe tbody tr th {\n",
       "        vertical-align: top;\n",
       "    }\n",
       "\n",
       "    .dataframe thead th {\n",
       "        text-align: right;\n",
       "    }\n",
       "</style>\n",
       "<table border=\"1\" class=\"dataframe\">\n",
       "  <thead>\n",
       "    <tr style=\"text-align: right;\">\n",
       "      <th></th>\n",
       "      <th>buying price</th>\n",
       "      <th>maintenance cost</th>\n",
       "      <th>number of doors</th>\n",
       "      <th>number of persons</th>\n",
       "      <th>luggage boot</th>\n",
       "      <th>safety</th>\n",
       "      <th>decision</th>\n",
       "    </tr>\n",
       "  </thead>\n",
       "  <tbody>\n",
       "    <tr>\n",
       "      <th>0</th>\n",
       "      <td>vhigh</td>\n",
       "      <td>vhigh</td>\n",
       "      <td>2</td>\n",
       "      <td>2</td>\n",
       "      <td>small</td>\n",
       "      <td>low</td>\n",
       "      <td>unacceptable</td>\n",
       "    </tr>\n",
       "    <tr>\n",
       "      <th>1</th>\n",
       "      <td>vhigh</td>\n",
       "      <td>vhigh</td>\n",
       "      <td>2</td>\n",
       "      <td>2</td>\n",
       "      <td>small</td>\n",
       "      <td>med</td>\n",
       "      <td>unacceptable</td>\n",
       "    </tr>\n",
       "    <tr>\n",
       "      <th>2</th>\n",
       "      <td>vhigh</td>\n",
       "      <td>vhigh</td>\n",
       "      <td>2</td>\n",
       "      <td>2</td>\n",
       "      <td>small</td>\n",
       "      <td>high</td>\n",
       "      <td>unacceptable</td>\n",
       "    </tr>\n",
       "    <tr>\n",
       "      <th>3</th>\n",
       "      <td>vhigh</td>\n",
       "      <td>vhigh</td>\n",
       "      <td>2</td>\n",
       "      <td>2</td>\n",
       "      <td>med</td>\n",
       "      <td>low</td>\n",
       "      <td>unacceptable</td>\n",
       "    </tr>\n",
       "    <tr>\n",
       "      <th>4</th>\n",
       "      <td>vhigh</td>\n",
       "      <td>vhigh</td>\n",
       "      <td>2</td>\n",
       "      <td>2</td>\n",
       "      <td>med</td>\n",
       "      <td>med</td>\n",
       "      <td>unacceptable</td>\n",
       "    </tr>\n",
       "  </tbody>\n",
       "</table>\n",
       "</div>"
      ],
      "text/plain": [
       "  buying price maintenance cost number of doors number of persons  \\\n",
       "0        vhigh            vhigh               2                 2   \n",
       "1        vhigh            vhigh               2                 2   \n",
       "2        vhigh            vhigh               2                 2   \n",
       "3        vhigh            vhigh               2                 2   \n",
       "4        vhigh            vhigh               2                 2   \n",
       "\n",
       "  luggage boot safety      decision  \n",
       "0        small    low  unacceptable  \n",
       "1        small    med  unacceptable  \n",
       "2        small   high  unacceptable  \n",
       "3          med    low  unacceptable  \n",
       "4          med    med  unacceptable  "
      ]
     },
     "execution_count": 4,
     "metadata": {},
     "output_type": "execute_result"
    }
   ],
   "source": [
    "df.head()"
   ]
  },
  {
   "cell_type": "code",
   "execution_count": 6,
   "id": "426a751d",
   "metadata": {},
   "outputs": [
    {
     "data": {
      "text/plain": [
       "(1728, 7)"
      ]
     },
     "execution_count": 6,
     "metadata": {},
     "output_type": "execute_result"
    }
   ],
   "source": [
    "df.shape"
   ]
  },
  {
   "cell_type": "code",
   "execution_count": 7,
   "id": "58b04fe6",
   "metadata": {},
   "outputs": [
    {
     "name": "stdout",
     "output_type": "stream",
     "text": [
      "<class 'pandas.core.frame.DataFrame'>\n",
      "RangeIndex: 1728 entries, 0 to 1727\n",
      "Data columns (total 7 columns):\n",
      " #   Column             Non-Null Count  Dtype \n",
      "---  ------             --------------  ----- \n",
      " 0   buying price       1728 non-null   object\n",
      " 1   maintenance cost   1728 non-null   object\n",
      " 2   number of doors    1728 non-null   object\n",
      " 3   number of persons  1728 non-null   object\n",
      " 4   luggage boot       1728 non-null   object\n",
      " 5   safety             1728 non-null   object\n",
      " 6   decision           1728 non-null   object\n",
      "dtypes: object(7)\n",
      "memory usage: 94.6+ KB\n"
     ]
    }
   ],
   "source": [
    "df.info()"
   ]
  },
  {
   "cell_type": "code",
   "execution_count": 8,
   "id": "8a1801bc",
   "metadata": {},
   "outputs": [
    {
     "data": {
      "text/plain": [
       "buying price         0\n",
       "maintenance cost     0\n",
       "number of doors      0\n",
       "number of persons    0\n",
       "luggage boot         0\n",
       "safety               0\n",
       "decision             0\n",
       "dtype: int64"
      ]
     },
     "execution_count": 8,
     "metadata": {},
     "output_type": "execute_result"
    }
   ],
   "source": [
    "df.isnull().sum()"
   ]
  },
  {
   "cell_type": "code",
   "execution_count": 10,
   "id": "2914ba6a",
   "metadata": {},
   "outputs": [
    {
     "data": {
      "text/html": [
       "<div>\n",
       "<style scoped>\n",
       "    .dataframe tbody tr th:only-of-type {\n",
       "        vertical-align: middle;\n",
       "    }\n",
       "\n",
       "    .dataframe tbody tr th {\n",
       "        vertical-align: top;\n",
       "    }\n",
       "\n",
       "    .dataframe thead th {\n",
       "        text-align: right;\n",
       "    }\n",
       "</style>\n",
       "<table border=\"1\" class=\"dataframe\">\n",
       "  <thead>\n",
       "    <tr style=\"text-align: right;\">\n",
       "      <th></th>\n",
       "      <th>buying price</th>\n",
       "      <th>maintenance cost</th>\n",
       "      <th>number of doors</th>\n",
       "      <th>number of persons</th>\n",
       "      <th>luggage boot</th>\n",
       "      <th>safety</th>\n",
       "      <th>decision</th>\n",
       "    </tr>\n",
       "  </thead>\n",
       "  <tbody>\n",
       "    <tr>\n",
       "      <th>count</th>\n",
       "      <td>1728</td>\n",
       "      <td>1728</td>\n",
       "      <td>1728</td>\n",
       "      <td>1728</td>\n",
       "      <td>1728</td>\n",
       "      <td>1728</td>\n",
       "      <td>1728</td>\n",
       "    </tr>\n",
       "    <tr>\n",
       "      <th>unique</th>\n",
       "      <td>4</td>\n",
       "      <td>4</td>\n",
       "      <td>4</td>\n",
       "      <td>3</td>\n",
       "      <td>3</td>\n",
       "      <td>3</td>\n",
       "      <td>4</td>\n",
       "    </tr>\n",
       "    <tr>\n",
       "      <th>top</th>\n",
       "      <td>vhigh</td>\n",
       "      <td>vhigh</td>\n",
       "      <td>2</td>\n",
       "      <td>2</td>\n",
       "      <td>small</td>\n",
       "      <td>low</td>\n",
       "      <td>unacceptable</td>\n",
       "    </tr>\n",
       "    <tr>\n",
       "      <th>freq</th>\n",
       "      <td>432</td>\n",
       "      <td>432</td>\n",
       "      <td>432</td>\n",
       "      <td>576</td>\n",
       "      <td>576</td>\n",
       "      <td>576</td>\n",
       "      <td>1210</td>\n",
       "    </tr>\n",
       "  </tbody>\n",
       "</table>\n",
       "</div>"
      ],
      "text/plain": [
       "       buying price maintenance cost number of doors number of persons  \\\n",
       "count          1728             1728            1728              1728   \n",
       "unique            4                4               4                 3   \n",
       "top           vhigh            vhigh               2                 2   \n",
       "freq            432              432             432               576   \n",
       "\n",
       "       luggage boot safety      decision  \n",
       "count          1728   1728          1728  \n",
       "unique            3      3             4  \n",
       "top           small    low  unacceptable  \n",
       "freq            576    576          1210  "
      ]
     },
     "execution_count": 10,
     "metadata": {},
     "output_type": "execute_result"
    }
   ],
   "source": [
    "df.describe()"
   ]
  },
  {
   "cell_type": "code",
   "execution_count": 15,
   "id": "eaba8f0c",
   "metadata": {},
   "outputs": [
    {
     "data": {
      "text/plain": [
       "0"
      ]
     },
     "execution_count": 15,
     "metadata": {},
     "output_type": "execute_result"
    }
   ],
   "source": [
    "df.duplicated().sum()"
   ]
  },
  {
   "cell_type": "code",
   "execution_count": 21,
   "id": "7fbba53e",
   "metadata": {},
   "outputs": [
    {
     "name": "stdout",
     "output_type": "stream",
     "text": [
      "vhigh    432\n",
      "high     432\n",
      "med      432\n",
      "low      432\n",
      "Name: buying price, dtype: int64\n",
      "========================================\n",
      "vhigh    432\n",
      "high     432\n",
      "med      432\n",
      "low      432\n",
      "Name: maintenance cost, dtype: int64\n",
      "========================================\n",
      "2        432\n",
      "3        432\n",
      "4        432\n",
      "5more    432\n",
      "Name: number of doors, dtype: int64\n",
      "========================================\n",
      "2       576\n",
      "4       576\n",
      "more    576\n",
      "Name: number of persons, dtype: int64\n",
      "========================================\n",
      "small    576\n",
      "med      576\n",
      "big      576\n",
      "Name: luggage boot, dtype: int64\n",
      "========================================\n",
      "low     576\n",
      "med     576\n",
      "high    576\n",
      "Name: safety, dtype: int64\n",
      "========================================\n",
      "unacceptable    1210\n",
      "acceptable       384\n",
      "good              69\n",
      "vgood             65\n",
      "Name: decision, dtype: int64\n",
      "========================================\n"
     ]
    }
   ],
   "source": [
    "for col in df.columns:\n",
    "    print(df[col].value_counts())\n",
    "    print(\"=\"*40)"
   ]
  },
  {
   "cell_type": "code",
   "execution_count": 22,
   "id": "1801ed57",
   "metadata": {},
   "outputs": [
    {
     "data": {
      "text/plain": [
       "unacceptable    1210\n",
       "acceptable       384\n",
       "good              69\n",
       "vgood             65\n",
       "Name: decision, dtype: int64"
      ]
     },
     "execution_count": 22,
     "metadata": {},
     "output_type": "execute_result"
    }
   ],
   "source": [
    "df['decision'].value_counts()"
   ]
  },
  {
   "cell_type": "code",
   "execution_count": 34,
   "id": "8a9173d2",
   "metadata": {
    "scrolled": false
   },
   "outputs": [
    {
     "data": {
      "text/html": [
       "<div>\n",
       "<style scoped>\n",
       "    .dataframe tbody tr th:only-of-type {\n",
       "        vertical-align: middle;\n",
       "    }\n",
       "\n",
       "    .dataframe tbody tr th {\n",
       "        vertical-align: top;\n",
       "    }\n",
       "\n",
       "    .dataframe thead th {\n",
       "        text-align: right;\n",
       "    }\n",
       "</style>\n",
       "<table border=\"1\" class=\"dataframe\">\n",
       "  <thead>\n",
       "    <tr style=\"text-align: right;\">\n",
       "      <th></th>\n",
       "      <th>buying price</th>\n",
       "      <th>maintenance cost</th>\n",
       "      <th>number of doors</th>\n",
       "      <th>number of persons</th>\n",
       "      <th>luggage boot</th>\n",
       "      <th>safety</th>\n",
       "      <th>decision</th>\n",
       "    </tr>\n",
       "  </thead>\n",
       "  <tbody>\n",
       "    <tr>\n",
       "      <th>0</th>\n",
       "      <td>vhigh</td>\n",
       "      <td>vhigh</td>\n",
       "      <td>2</td>\n",
       "      <td>2</td>\n",
       "      <td>small</td>\n",
       "      <td>low</td>\n",
       "      <td>unacceptable</td>\n",
       "    </tr>\n",
       "    <tr>\n",
       "      <th>1</th>\n",
       "      <td>vhigh</td>\n",
       "      <td>vhigh</td>\n",
       "      <td>2</td>\n",
       "      <td>2</td>\n",
       "      <td>small</td>\n",
       "      <td>med</td>\n",
       "      <td>unacceptable</td>\n",
       "    </tr>\n",
       "    <tr>\n",
       "      <th>2</th>\n",
       "      <td>vhigh</td>\n",
       "      <td>vhigh</td>\n",
       "      <td>2</td>\n",
       "      <td>2</td>\n",
       "      <td>small</td>\n",
       "      <td>high</td>\n",
       "      <td>unacceptable</td>\n",
       "    </tr>\n",
       "    <tr>\n",
       "      <th>3</th>\n",
       "      <td>vhigh</td>\n",
       "      <td>vhigh</td>\n",
       "      <td>2</td>\n",
       "      <td>2</td>\n",
       "      <td>med</td>\n",
       "      <td>low</td>\n",
       "      <td>unacceptable</td>\n",
       "    </tr>\n",
       "    <tr>\n",
       "      <th>4</th>\n",
       "      <td>vhigh</td>\n",
       "      <td>vhigh</td>\n",
       "      <td>2</td>\n",
       "      <td>2</td>\n",
       "      <td>med</td>\n",
       "      <td>med</td>\n",
       "      <td>unacceptable</td>\n",
       "    </tr>\n",
       "  </tbody>\n",
       "</table>\n",
       "</div>"
      ],
      "text/plain": [
       "  buying price maintenance cost number of doors number of persons  \\\n",
       "0        vhigh            vhigh               2                 2   \n",
       "1        vhigh            vhigh               2                 2   \n",
       "2        vhigh            vhigh               2                 2   \n",
       "3        vhigh            vhigh               2                 2   \n",
       "4        vhigh            vhigh               2                 2   \n",
       "\n",
       "  luggage boot safety      decision  \n",
       "0        small    low  unacceptable  \n",
       "1        small    med  unacceptable  \n",
       "2        small   high  unacceptable  \n",
       "3          med    low  unacceptable  \n",
       "4          med    med  unacceptable  "
      ]
     },
     "execution_count": 34,
     "metadata": {},
     "output_type": "execute_result"
    }
   ],
   "source": [
    "df.head()"
   ]
  },
  {
   "cell_type": "code",
   "execution_count": 41,
   "id": "b1707ec5",
   "metadata": {},
   "outputs": [],
   "source": [
    "x = df.iloc[:,:-1]\n",
    "y = df.iloc[:,-1]"
   ]
  },
  {
   "cell_type": "markdown",
   "id": "dd31403a",
   "metadata": {},
   "source": [
    "## splitting data into training and testing sets"
   ]
  },
  {
   "cell_type": "code",
   "execution_count": 26,
   "id": "cbc2bada",
   "metadata": {},
   "outputs": [],
   "source": [
    "from sklearn.model_selection import train_test_split"
   ]
  },
  {
   "cell_type": "code",
   "execution_count": 28,
   "id": "e812a3d5",
   "metadata": {},
   "outputs": [],
   "source": [
    "x_train, x_test, y_train, y_test = train_test_split(x,y, test_size = 0.33, random_state = 42)"
   ]
  },
  {
   "cell_type": "code",
   "execution_count": 29,
   "id": "0327ead2",
   "metadata": {},
   "outputs": [
    {
     "data": {
      "text/plain": [
       "((1157, 6), (1157,))"
      ]
     },
     "execution_count": 29,
     "metadata": {},
     "output_type": "execute_result"
    }
   ],
   "source": [
    "x_train.shape,y_train.shape"
   ]
  },
  {
   "cell_type": "code",
   "execution_count": 31,
   "id": "dec2d2d0",
   "metadata": {},
   "outputs": [
    {
     "data": {
      "text/plain": [
       "buying price         object\n",
       "maintenance cost     object\n",
       "number of doors      object\n",
       "number of persons    object\n",
       "luggage boot         object\n",
       "safety               object\n",
       "dtype: object"
      ]
     },
     "execution_count": 31,
     "metadata": {},
     "output_type": "execute_result"
    }
   ],
   "source": [
    "x_train.dtypes"
   ]
  },
  {
   "cell_type": "code",
   "execution_count": 50,
   "id": "45e45717",
   "metadata": {},
   "outputs": [],
   "source": [
    "from sklearn.preprocessing import OrdinalEncoder"
   ]
  },
  {
   "cell_type": "code",
   "execution_count": 51,
   "id": "62fea7ab",
   "metadata": {},
   "outputs": [],
   "source": [
    "oe = OrdinalEncoder()"
   ]
  },
  {
   "cell_type": "code",
   "execution_count": 52,
   "id": "c567b19b",
   "metadata": {},
   "outputs": [],
   "source": [
    "x_train = oe.fit_transform(x_train)"
   ]
  },
  {
   "cell_type": "code",
   "execution_count": 53,
   "id": "1bc3bc96",
   "metadata": {},
   "outputs": [],
   "source": [
    "x_test = oe.transform(x_test)"
   ]
  },
  {
   "cell_type": "code",
   "execution_count": 54,
   "id": "809a8f00",
   "metadata": {},
   "outputs": [
    {
     "data": {
      "text/plain": [
       "array([[3., 3., 1., 2., 1., 1.],\n",
       "       [0., 3., 1., 1., 2., 1.],\n",
       "       [3., 0., 1., 2., 2., 0.],\n",
       "       ...,\n",
       "       [0., 1., 3., 2., 1., 0.],\n",
       "       [1., 0., 2., 0., 2., 2.],\n",
       "       [2., 2., 1., 2., 2., 2.]])"
      ]
     },
     "execution_count": 54,
     "metadata": {},
     "output_type": "execute_result"
    }
   ],
   "source": [
    "x_train"
   ]
  },
  {
   "cell_type": "code",
   "execution_count": 55,
   "id": "0dd4f87d",
   "metadata": {},
   "outputs": [
    {
     "data": {
      "text/plain": [
       "array([[0., 0., 2., 0., 1., 0.],\n",
       "       [2., 1., 0., 1., 1., 2.],\n",
       "       [0., 0., 3., 0., 0., 2.],\n",
       "       ...,\n",
       "       [3., 0., 1., 1., 1., 1.],\n",
       "       [3., 1., 1., 1., 2., 1.],\n",
       "       [3., 3., 3., 0., 2., 0.]])"
      ]
     },
     "execution_count": 55,
     "metadata": {},
     "output_type": "execute_result"
    }
   ],
   "source": [
    "x_test"
   ]
  },
  {
   "cell_type": "markdown",
   "id": "56762df5",
   "metadata": {},
   "source": [
    "### Decision Tree classifier using gini "
   ]
  },
  {
   "cell_type": "code",
   "execution_count": 60,
   "id": "b85fe680",
   "metadata": {},
   "outputs": [],
   "source": [
    "from sklearn.tree import DecisionTreeClassifier"
   ]
  },
  {
   "cell_type": "code",
   "execution_count": 66,
   "id": "2b5123d6",
   "metadata": {},
   "outputs": [],
   "source": [
    "dtc_gini = DecisionTreeClassifier(criterion='gini',max_depth= 3, random_state = 0)"
   ]
  },
  {
   "cell_type": "code",
   "execution_count": 67,
   "id": "1d9a350c",
   "metadata": {},
   "outputs": [
    {
     "data": {
      "text/plain": [
       "DecisionTreeClassifier(max_depth=3, random_state=0)"
      ]
     },
     "execution_count": 67,
     "metadata": {},
     "output_type": "execute_result"
    }
   ],
   "source": [
    "dtc_gini.fit(x_train,y_train)"
   ]
  },
  {
   "cell_type": "code",
   "execution_count": 69,
   "id": "b2aa0555",
   "metadata": {},
   "outputs": [],
   "source": [
    "y_pred_gini = dtc_gini.predict(x_test)"
   ]
  },
  {
   "cell_type": "markdown",
   "id": "997c0a92",
   "metadata": {},
   "source": [
    "## checking accuracy score with criterion gini"
   ]
  },
  {
   "cell_type": "code",
   "execution_count": 72,
   "id": "68649a9a",
   "metadata": {},
   "outputs": [],
   "source": [
    "from sklearn.metrics import accuracy_score"
   ]
  },
  {
   "cell_type": "code",
   "execution_count": 73,
   "id": "d644e3d8",
   "metadata": {},
   "outputs": [
    {
     "name": "stdout",
     "output_type": "stream",
     "text": [
      "Model accuracy score with criterion gini index: 0.7653\n"
     ]
    }
   ],
   "source": [
    "print('Model accuracy score with criterion gini index: {0:0.4f}'. format(accuracy_score(y_test, y_pred_gini)))"
   ]
  },
  {
   "cell_type": "code",
   "execution_count": 76,
   "id": "7784c272",
   "metadata": {},
   "outputs": [
    {
     "data": {
      "text/plain": [
       "array(['unacceptable', 'unacceptable', 'acceptable', ..., 'acceptable',\n",
       "       'unacceptable', 'unacceptable'], dtype=object)"
      ]
     },
     "execution_count": 76,
     "metadata": {},
     "output_type": "execute_result"
    }
   ],
   "source": [
    "y_pred_train_gini = dtc_gini.predict(x_train)\n",
    "\n",
    "y_pred_train_gini"
   ]
  },
  {
   "cell_type": "code",
   "execution_count": 77,
   "id": "d6736084",
   "metadata": {},
   "outputs": [
    {
     "name": "stdout",
     "output_type": "stream",
     "text": [
      "Training-set accuracy score: 0.7744\n"
     ]
    }
   ],
   "source": [
    "print('Training-set accuracy score: {0:0.4f}'. format(accuracy_score(y_train, y_pred_train_gini)))"
   ]
  },
  {
   "cell_type": "markdown",
   "id": "07cdfae2",
   "metadata": {},
   "source": [
    "### check for overfitting and underfitting"
   ]
  },
  {
   "cell_type": "code",
   "execution_count": 79,
   "id": "0644da88",
   "metadata": {},
   "outputs": [
    {
     "name": "stdout",
     "output_type": "stream",
     "text": [
      "Training set score: 0.7744\n",
      "Test set score: 0.7653\n"
     ]
    }
   ],
   "source": [
    "print('Training set score: {:.4f}'.format(dtc_gini.score(x_train, y_train)))\n",
    "\n",
    "print('Test set score: {:.4f}'.format(dtc_gini.score(x_test, y_test)))"
   ]
  },
  {
   "cell_type": "code",
   "execution_count": 84,
   "id": "3a303a1d",
   "metadata": {},
   "outputs": [
    {
     "data": {
      "application/javascript": [
       "\n",
       "        if (window._pyforest_update_imports_cell) { window._pyforest_update_imports_cell('import matplotlib.pyplot as plt'); }\n",
       "    "
      ],
      "text/plain": [
       "<IPython.core.display.Javascript object>"
      ]
     },
     "metadata": {},
     "output_type": "display_data"
    },
    {
     "data": {
      "text/plain": [
       "[Text(0.375, 0.875, 'X[3] <= 0.5\\ngini = 0.455\\nsamples = 1157\\nvalue = [255, 49, 813, 40]'),\n",
       " Text(0.25, 0.625, 'gini = 0.0\\nsamples = 375\\nvalue = [0, 0, 375, 0]'),\n",
       " Text(0.5, 0.625, 'X[5] <= 0.5\\ngini = 0.573\\nsamples = 782\\nvalue = [255, 49, 438, 40]'),\n",
       " Text(0.25, 0.375, 'X[1] <= 2.5\\ngini = 0.634\\nsamples = 263\\nvalue = [139, 21, 63, 40]'),\n",
       " Text(0.125, 0.125, 'gini = 0.619\\nsamples = 194\\nvalue = [108, 21, 25, 40]'),\n",
       " Text(0.375, 0.125, 'gini = 0.495\\nsamples = 69\\nvalue = [31, 0, 38, 0]'),\n",
       " Text(0.75, 0.375, 'X[5] <= 1.5\\ngini = 0.425\\nsamples = 519\\nvalue = [116, 28, 375, 0]'),\n",
       " Text(0.625, 0.125, 'gini = 0.0\\nsamples = 257\\nvalue = [0, 0, 257, 0]'),\n",
       " Text(0.875, 0.125, 'gini = 0.59\\nsamples = 262\\nvalue = [116, 28, 118, 0]')]"
      ]
     },
     "execution_count": 84,
     "metadata": {},
     "output_type": "execute_result"
    },
    {
     "data": {
      "image/png": "[encoded data removed]",
      "text/plain": [
       "<Figure size 1200x800 with 1 Axes>"
      ]
     },
     "metadata": {},
     "output_type": "display_data"
    }
   ],
   "source": [
    "plt.figure(figsize=(12,8))\n",
    "from sklearn import tree\n",
    "tree.plot_tree(dtc_gini.fit(x_train,y_train))"
   ]
  },
  {
   "cell_type": "markdown",
   "id": "01707df0",
   "metadata": {},
   "source": [
    "### Decision tree classifier with criterion entropy"
   ]
  },
  {
   "cell_type": "code",
   "execution_count": 89,
   "id": "f3348371",
   "metadata": {},
   "outputs": [],
   "source": [
    "dtc_ent = DecisionTreeClassifier(criterion='entropy',max_depth= 3, random_state = 0)"
   ]
  },
  {
   "cell_type": "code",
   "execution_count": 90,
   "id": "8f825c29",
   "metadata": {},
   "outputs": [
    {
     "data": {
      "text/plain": [
       "DecisionTreeClassifier(max_depth=3, random_state=0)"
      ]
     },
     "execution_count": 90,
     "metadata": {},
     "output_type": "execute_result"
    }
   ],
   "source": [
    "dtc_ent.fit(x_train,y_train)"
   ]
  },
  {
   "cell_type": "code",
   "execution_count": 92,
   "id": "4ea33324",
   "metadata": {},
   "outputs": [],
   "source": [
    "y_pred_ent = dtc_ent.predict(x_test)"
   ]
  },
  {
   "cell_type": "markdown",
   "id": "622f5776",
   "metadata": {},
   "source": [
    "### checking accuracy score with criterion entropy"
   ]
  },
  {
   "cell_type": "code",
   "execution_count": 93,
   "id": "829028e6",
   "metadata": {},
   "outputs": [],
   "source": [
    "from sklearn.metrics import accuracy_score"
   ]
  },
  {
   "cell_type": "code",
   "execution_count": 94,
   "id": "c14b1377",
   "metadata": {},
   "outputs": [
    {
     "name": "stdout",
     "output_type": "stream",
     "text": [
      "Model accuracy score with criterion gini index: 0.7653\n"
     ]
    }
   ],
   "source": [
    "print('Model accuracy score with criterion entropy index: {0:0.4f}'. format(accuracy_score(y_test, y_pred_ent)))"
   ]
  },
  {
   "cell_type": "code",
   "execution_count": 95,
   "id": "ccd1db36",
   "metadata": {},
   "outputs": [
    {
     "data": {
      "text/plain": [
       "array(['unacceptable', 'unacceptable', 'acceptable', ..., 'acceptable',\n",
       "       'unacceptable', 'unacceptable'], dtype=object)"
      ]
     },
     "execution_count": 95,
     "metadata": {},
     "output_type": "execute_result"
    }
   ],
   "source": [
    "y_pred_train_ent = dtc_ent.predict(x_train)\n",
    "\n",
    "y_pred_train_ent"
   ]
  },
  {
   "cell_type": "code",
   "execution_count": 96,
   "id": "0a995df0",
   "metadata": {},
   "outputs": [
    {
     "name": "stdout",
     "output_type": "stream",
     "text": [
      "Training-set accuracy score: 0.7744\n"
     ]
    }
   ],
   "source": [
    "print('Training-set accuracy score: {0:0.4f}'. format(accuracy_score(y_train, y_pred_train_ent)))"
   ]
  },
  {
   "cell_type": "code",
   "execution_count": 97,
   "id": "0c321f82",
   "metadata": {},
   "outputs": [
    {
     "name": "stdout",
     "output_type": "stream",
     "text": [
      "Training set score: 0.7744\n",
      "Test set score: 0.7653\n"
     ]
    }
   ],
   "source": [
    "print('Training set score: {:.4f}'.format(dtc_ent.score(x_train, y_train)))\n",
    "\n",
    "print('Test set score: {:.4f}'.format(dtc_ent.score(x_test, y_test)))"
   ]
  },
  {
   "cell_type": "code",
   "execution_count": 99,
   "id": "fc98466d",
   "metadata": {},
   "outputs": [
    {
     "data": {
      "application/javascript": [
       "\n",
       "        if (window._pyforest_update_imports_cell) { window._pyforest_update_imports_cell('import matplotlib.pyplot as plt'); }\n",
       "    "
      ],
      "text/plain": [
       "<IPython.core.display.Javascript object>"
      ]
     },
     "metadata": {},
     "output_type": "display_data"
    },
    {
     "data": {
      "text/plain": [
       "[Text(0.375, 0.875, 'X[3] <= 0.5\\ngini = 0.455\\nsamples = 1157\\nvalue = [255, 49, 813, 40]'),\n",
       " Text(0.25, 0.625, 'gini = 0.0\\nsamples = 375\\nvalue = [0, 0, 375, 0]'),\n",
       " Text(0.5, 0.625, 'X[5] <= 0.5\\ngini = 0.573\\nsamples = 782\\nvalue = [255, 49, 438, 40]'),\n",
       " Text(0.25, 0.375, 'X[1] <= 2.5\\ngini = 0.634\\nsamples = 263\\nvalue = [139, 21, 63, 40]'),\n",
       " Text(0.125, 0.125, 'gini = 0.619\\nsamples = 194\\nvalue = [108, 21, 25, 40]'),\n",
       " Text(0.375, 0.125, 'gini = 0.495\\nsamples = 69\\nvalue = [31, 0, 38, 0]'),\n",
       " Text(0.75, 0.375, 'X[5] <= 1.5\\ngini = 0.425\\nsamples = 519\\nvalue = [116, 28, 375, 0]'),\n",
       " Text(0.625, 0.125, 'gini = 0.0\\nsamples = 257\\nvalue = [0, 0, 257, 0]'),\n",
       " Text(0.875, 0.125, 'gini = 0.59\\nsamples = 262\\nvalue = [116, 28, 118, 0]')]"
      ]
     },
     "execution_count": 99,
     "metadata": {},
     "output_type": "execute_result"
    },
    {
     "data": {
      "image/png": "[encoded data removed]",
      "text/plain": [
       "<Figure size 1200x800 with 1 Axes>"
      ]
     },
     "metadata": {},
     "output_type": "display_data"
    }
   ],
   "source": [
    "plt.figure(figsize=(12,8))\n",
    "from sklearn import tree\n",
    "tree.plot_tree(dtc_ent.fit(x_train,y_train))"
   ]
  },
  {
   "cell_type": "markdown",
   "id": "af60d171",
   "metadata": {},
   "source": [
    "### confusion metric"
   ]
  },
  {
   "cell_type": "code",
   "execution_count": 101,
   "id": "cf40b47c",
   "metadata": {},
   "outputs": [],
   "source": [
    "from sklearn.metrics import confusion_matrix"
   ]
  },
  {
   "cell_type": "code",
   "execution_count": 102,
   "id": "7a807240",
   "metadata": {},
   "outputs": [],
   "source": [
    "cm = confusion_matrix(y_test, y_pred_ent)"
   ]
  },
  {
   "cell_type": "code",
   "execution_count": 103,
   "id": "ff78b0dd",
   "metadata": {},
   "outputs": [
    {
     "data": {
      "text/plain": [
       "array([[ 50,   0,  79,   0],\n",
       "       [  9,   0,  11,   0],\n",
       "       [ 10,   0, 387,   0],\n",
       "       [ 25,   0,   0,   0]], dtype=int64)"
      ]
     },
     "execution_count": 103,
     "metadata": {},
     "output_type": "execute_result"
    }
   ],
   "source": [
    "cm"
   ]
  },
  {
   "cell_type": "code",
   "execution_count": 105,
   "id": "18bb5bc8",
   "metadata": {},
   "outputs": [
    {
     "name": "stdout",
     "output_type": "stream",
     "text": [
      "              precision    recall  f1-score   support\n",
      "\n",
      "  acceptable       0.53      0.39      0.45       129\n",
      "        good       0.00      0.00      0.00        20\n",
      "unacceptable       0.81      0.97      0.89       397\n",
      "       vgood       0.00      0.00      0.00        25\n",
      "\n",
      "    accuracy                           0.77       571\n",
      "   macro avg       0.34      0.34      0.33       571\n",
      "weighted avg       0.68      0.77      0.72       571\n",
      "\n"
     ]
    },
    {
     "name": "stderr",
     "output_type": "stream",
     "text": [
      "C:\\Users\\bhush\\anaconda3\\lib\\site-packages\\sklearn\\metrics\\_classification.py:1318: UndefinedMetricWarning: Precision and F-score are ill-defined and being set to 0.0 in labels with no predicted samples. Use `zero_division` parameter to control this behavior.\n",
      "  _warn_prf(average, modifier, msg_start, len(result))\n",
      "C:\\Users\\bhush\\anaconda3\\lib\\site-packages\\sklearn\\metrics\\_classification.py:1318: UndefinedMetricWarning: Precision and F-score are ill-defined and being set to 0.0 in labels with no predicted samples. Use `zero_division` parameter to control this behavior.\n",
      "  _warn_prf(average, modifier, msg_start, len(result))\n",
      "C:\\Users\\bhush\\anaconda3\\lib\\site-packages\\sklearn\\metrics\\_classification.py:1318: UndefinedMetricWarning: Precision and F-score are ill-defined and being set to 0.0 in labels with no predicted samples. Use `zero_division` parameter to control this behavior.\n",
      "  _warn_prf(average, modifier, msg_start, len(result))\n"
     ]
    }
   ],
   "source": [
    "from sklearn.metrics import classification_report\n",
    "\n",
    "print(classification_report(y_test, y_pred_ent))"
   ]
  },
  {
   "cell_type": "code",
   "execution_count": null,
   "id": "f6e7f492",
   "metadata": {},
   "outputs": [],
   "source": []
  }
 ],
 "metadata": {
  "kernelspec": {
   "display_name": "Python 3 (ipykernel)",
   "language": "python",
   "name": "python3"
  },
  "language_info": {
   "codemirror_mode": {
    "name": "ipython",
    "version": 3
   },
   "file_extension": ".py",
   "mimetype": "text/x-python",
   "name": "python",
   "nbconvert_exporter": "python",
   "pygments_lexer": "ipython3",
   "version": "3.9.13"
  }
 },
 "nbformat": 4,
 "nbformat_minor": 5
}
